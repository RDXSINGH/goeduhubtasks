{
 "cells": [
  {
   "cell_type": "markdown",
   "id": "3748714c",
   "metadata": {},
   "source": [
    "# Task-4\n",
    "Reg ID: GO_STP_6970"
   ]
  },
  {
   "cell_type": "markdown",
   "id": "f2ec59fe",
   "metadata": {},
   "source": [
    "1) Import the numpy package under the name np and Print thenumpy version and the config"
   ]
  },
  {
   "cell_type": "code",
   "execution_count": 1,
   "id": "fe38ad84",
   "metadata": {},
   "outputs": [
    {
     "name": "stdout",
     "output_type": "stream",
     "text": [
      "1.19.5\n",
      "blas_mkl_info:\n",
      "  NOT AVAILABLE\n",
      "blis_info:\n",
      "  NOT AVAILABLE\n",
      "openblas_info:\n",
      "    library_dirs = ['D:\\\\a\\\\1\\\\s\\\\numpy\\\\build\\\\openblas_info']\n",
      "    libraries = ['openblas_info']\n",
      "    language = f77\n",
      "    define_macros = [('HAVE_CBLAS', None)]\n",
      "blas_opt_info:\n",
      "    library_dirs = ['D:\\\\a\\\\1\\\\s\\\\numpy\\\\build\\\\openblas_info']\n",
      "    libraries = ['openblas_info']\n",
      "    language = f77\n",
      "    define_macros = [('HAVE_CBLAS', None)]\n",
      "lapack_mkl_info:\n",
      "  NOT AVAILABLE\n",
      "openblas_lapack_info:\n",
      "    library_dirs = ['D:\\\\a\\\\1\\\\s\\\\numpy\\\\build\\\\openblas_lapack_info']\n",
      "    libraries = ['openblas_lapack_info']\n",
      "    language = f77\n",
      "    define_macros = [('HAVE_CBLAS', None)]\n",
      "lapack_opt_info:\n",
      "    library_dirs = ['D:\\\\a\\\\1\\\\s\\\\numpy\\\\build\\\\openblas_lapack_info']\n",
      "    libraries = ['openblas_lapack_info']\n",
      "    language = f77\n",
      "    define_macros = [('HAVE_CBLAS', None)]\n",
      "None\n"
     ]
    }
   ],
   "source": [
    "import numpy as np\n",
    "print(np.__version__)\n",
    "print(np.show_config())"
   ]
  },
  {
   "cell_type": "markdown",
   "id": "5e7d7892",
   "metadata": {},
   "source": [
    "2) Create a null vector of size 10"
   ]
  },
  {
   "cell_type": "code",
   "execution_count": 2,
   "id": "92908696",
   "metadata": {},
   "outputs": [
    {
     "name": "stdout",
     "output_type": "stream",
     "text": [
      "[0. 0. 0. 0. 0. 0. 0. 0. 0. 0.]\n"
     ]
    }
   ],
   "source": [
    "x=np.zeros(10)\n",
    "print(x)"
   ]
  },
  {
   "cell_type": "markdown",
   "id": "0fb845f8",
   "metadata": {},
   "source": [
    "3) Create Simple 1-D array and check type and check data typesin array"
   ]
  },
  {
   "cell_type": "code",
   "execution_count": 3,
   "id": "26cc93bd",
   "metadata": {},
   "outputs": [
    {
     "name": "stdout",
     "output_type": "stream",
     "text": [
      "<class 'numpy.ndarray'>\n",
      "int32\n"
     ]
    }
   ],
   "source": [
    "c=np.array([1,2,3,4,5])\n",
    "print(type(c))\n",
    "print(c.dtype)"
   ]
  },
  {
   "cell_type": "markdown",
   "id": "3b00ec42",
   "metadata": {},
   "source": [
    "4) How to find number of dimensions,bytes per element and bytes of memeory used"
   ]
  },
  {
   "cell_type": "code",
   "execution_count": 4,
   "id": "23025e23",
   "metadata": {},
   "outputs": [
    {
     "name": "stdout",
     "output_type": "stream",
     "text": [
      "Size of Array:  5\n",
      "Memory size of One element of array:  4\n",
      "Total Bytes  Memory used:  20\n"
     ]
    }
   ],
   "source": [
    "#Create Array\n",
    "p=np.array([100,20,30,125,50])\n",
    "print(\"Size of Array: \",p.size)\n",
    "print(\"Memory size of One element of array: \",p.itemsize)\n",
    "print(\"Total Bytes  Memory used: \",p.size*p.itemsize)"
   ]
  },
  {
   "cell_type": "markdown",
   "id": "99e3fa5e",
   "metadata": {},
   "source": [
    "5) Create a null vector of size 10 but the fifth value which is 1"
   ]
  },
  {
   "cell_type": "code",
   "execution_count": 6,
   "id": "0c4ee323",
   "metadata": {},
   "outputs": [
    {
     "name": "stdout",
     "output_type": "stream",
     "text": [
      "Null Vector:  [0. 0. 0. 0. 0. 0. 0. 0. 0. 0.]\n",
      "Updated Array:  [0. 0. 0. 0. 1. 0. 0. 0. 0. 0.]\n"
     ]
    }
   ],
   "source": [
    "x=np.zeros(10)\n",
    "print(\"Null Vector: \",x)\n",
    "x[4] =1\n",
    "print(\"Updated Array: \",x)"
   ]
  },
  {
   "cell_type": "markdown",
   "id": "0a869cb0",
   "metadata": {},
   "source": [
    "6) Create a vector with values ranging from 10 to 49"
   ]
  },
  {
   "cell_type": "code",
   "execution_count": 8,
   "id": "2686defe",
   "metadata": {},
   "outputs": [
    {
     "name": "stdout",
     "output_type": "stream",
     "text": [
      "[10 11 12 13 14 15 16 17 18 19 20 21 22 23 24 25 26 27 28 29 30 31 32 33\n",
      " 34 35 36 37 38 39 40 41 42 43 44 45 46 47 48 49]\n"
     ]
    }
   ],
   "source": [
    "v = np.arange(10,50)\n",
    "print(v)"
   ]
  },
  {
   "cell_type": "markdown",
   "id": "0b51284a",
   "metadata": {},
   "source": [
    "7) Reverse a vector (first element becomes last)"
   ]
  },
  {
   "cell_type": "code",
   "execution_count": 9,
   "id": "89b6571a",
   "metadata": {},
   "outputs": [
    {
     "name": "stdout",
     "output_type": "stream",
     "text": [
      "Orignal Array:  [10 11 12 13 14 15 16 17 18 19 20 21 22 23 24 25 26 27 28 29 30 31 32 33\n",
      " 34 35 36 37 38 39 40 41 42 43 44 45 46 47 48 49]\n",
      "Reverse Array:  [49 48 47 46 45 44 43 42 41 40 39 38 37 36 35 34 33 32 31 30 29 28 27 26\n",
      " 25 24 23 22 21 20 19 18 17 16 15 14 13 12 11 10]\n"
     ]
    }
   ],
   "source": [
    "print(\"Orignal Array: \",v)\n",
    "v=v[::-1]\n",
    "print(\"Reverse Array: \",v)"
   ]
  },
  {
   "cell_type": "markdown",
   "id": "d1b9acee",
   "metadata": {},
   "source": [
    "8) Create a 3x3 matrix with values ranging from 0 to 8"
   ]
  },
  {
   "cell_type": "code",
   "execution_count": 10,
   "id": "d9466076",
   "metadata": {},
   "outputs": [
    {
     "name": "stdout",
     "output_type": "stream",
     "text": [
      "[[0 1 2]\n",
      " [3 4 5]\n",
      " [6 7 8]]\n"
     ]
    }
   ],
   "source": [
    "x=np.arange(0,9).reshape(3,3)\n",
    "print(x)"
   ]
  },
  {
   "cell_type": "markdown",
   "id": "fe25a896",
   "metadata": {},
   "source": [
    "9) Find indices of non-zero elements from [1,2,0,0,4,0]"
   ]
  },
  {
   "cell_type": "code",
   "execution_count": 11,
   "id": "dc9d6c97",
   "metadata": {},
   "outputs": [
    {
     "name": "stdout",
     "output_type": "stream",
     "text": [
      "Orignal Array:  [1 2 0 0 4 0]\n",
      "Indices with non-zero elements are :  [0 1 4]\n"
     ]
    }
   ],
   "source": [
    "nums = np.array([1,2,0,0,4,0])\n",
    "print(\"Orignal Array: \",nums)\n",
    "result=np.where(nums != 0)[0]\n",
    "print(\"Indices with non-zero elements are : \",result)"
   ]
  },
  {
   "cell_type": "markdown",
   "id": "f4bb873a",
   "metadata": {},
   "source": [
    "10) Create a 3x3 identity matrix"
   ]
  },
  {
   "cell_type": "code",
   "execution_count": 13,
   "id": "0378890c",
   "metadata": {},
   "outputs": [
    {
     "name": "stdout",
     "output_type": "stream",
     "text": [
      "3x3 Matrix: \n",
      "[[1. 0. 0.]\n",
      " [0. 1. 0.]\n",
      " [0. 0. 1.]]\n"
     ]
    }
   ],
   "source": [
    "id_matrix = np.eye(3)\n",
    "print(\"3x3 Matrix: \")\n",
    "print(id_matrix)"
   ]
  },
  {
   "cell_type": "markdown",
   "id": "29603835",
   "metadata": {},
   "source": [
    "11) Create a 3x3 identity matrix"
   ]
  },
  {
   "cell_type": "code",
   "execution_count": 15,
   "id": "628fb5fe",
   "metadata": {},
   "outputs": [
    {
     "name": "stdout",
     "output_type": "stream",
     "text": [
      "[[[0.48313579 0.15311003 0.39614674]\n",
      "  [0.52533757 0.78413286 0.56641936]\n",
      "  [0.55472223 0.41078363 0.45287479]]\n",
      "\n",
      " [[0.44187468 0.21001305 0.86227007]\n",
      "  [0.52523256 0.99550921 0.62949078]\n",
      "  [0.20672121 0.78009292 0.29914648]]\n",
      "\n",
      " [[0.26109659 0.95687704 0.24836808]\n",
      "  [0.74336468 0.2825623  0.82284204]\n",
      "  [0.68718767 0.6850868  0.7731873 ]]]\n"
     ]
    }
   ],
   "source": [
    "x = np.random.random((3,3,3))\n",
    "print(x)"
   ]
  },
  {
   "cell_type": "markdown",
   "id": "81a0e065",
   "metadata": {},
   "source": [
    "12) Create a 10x10 array with random values and  find the minimum and maximum."
   ]
  },
  {
   "cell_type": "code",
   "execution_count": 16,
   "id": "36920ab5",
   "metadata": {},
   "outputs": [
    {
     "name": "stdout",
     "output_type": "stream",
     "text": [
      "Min Value:  0.0008228664615106407\n",
      "[[7.09800584e-01 7.35868038e-01 2.24794859e-01 2.59395390e-01\n",
      "  3.21320204e-01 3.11596512e-01 8.25310744e-01 7.10882152e-01\n",
      "  8.22866462e-04 4.33699994e-03]\n",
      " [4.60087110e-01 4.28048637e-01 1.87621830e-01 2.32396827e-01\n",
      "  1.48981717e-01 2.98996157e-01 5.42950735e-01 9.87429667e-01\n",
      "  5.90633583e-01 5.80544620e-01]\n",
      " [2.84239247e-02 8.39963185e-01 3.22069709e-01 2.27469537e-01\n",
      "  6.40190850e-01 7.41037902e-01 8.84857526e-01 1.21211996e-01\n",
      "  3.58755837e-01 2.06240244e-01]\n",
      " [2.26521706e-01 7.92826641e-01 7.85892672e-01 9.83998452e-01\n",
      "  3.24062992e-01 2.70321445e-01 3.78327730e-01 3.18323039e-01\n",
      "  8.44432118e-01 3.32776542e-01]\n",
      " [6.85423900e-01 3.51246082e-01 6.01838921e-02 1.82621175e-01\n",
      "  8.14925772e-02 4.21571411e-01 8.88381967e-01 1.48910761e-01\n",
      "  7.05043158e-01 2.87236506e-01]\n",
      " [8.40664472e-01 1.86864292e-01 6.91282665e-01 9.49075874e-01\n",
      "  6.64171601e-01 1.16075092e-01 7.37009397e-01 7.33952862e-01\n",
      "  7.96737406e-01 3.46806801e-02]\n",
      " [5.60608737e-01 9.75598270e-01 1.55073806e-01 6.69458746e-01\n",
      "  8.22480019e-01 9.66402219e-01 4.88232729e-02 7.56226700e-01\n",
      "  3.43641000e-01 4.16562115e-01]\n",
      " [2.06946666e-01 6.62920432e-01 5.82779002e-01 3.41423836e-01\n",
      "  7.25672119e-01 2.17702551e-03 8.03267521e-01 9.07349160e-01\n",
      "  3.95993035e-01 7.64371878e-01]\n",
      " [9.93877632e-01 3.75146333e-01 7.79895789e-01 5.45439467e-01\n",
      "  8.39966387e-01 7.88541815e-01 5.14982174e-01 4.57022342e-01\n",
      "  8.87128058e-01 1.15606283e-01]\n",
      " [1.04798322e-01 2.63195083e-01 5.51412467e-01 3.27173450e-01\n",
      "  2.19745856e-01 5.04263873e-01 3.16125229e-01 3.90453336e-01\n",
      "  3.14162974e-01 7.49939706e-01]]\n",
      "Max Value:  0.993877631745187\n"
     ]
    }
   ],
   "source": [
    "x= np.random.random((10,10))\n",
    "print(\"Min Value: \",x.min())\n",
    "print(x)\n",
    "print(\"Max Value: \",x.max())"
   ]
  },
  {
   "cell_type": "markdown",
   "id": "9c4e253f",
   "metadata": {},
   "source": [
    "13) Create a random vector of size 30 and  find the mean value"
   ]
  },
  {
   "cell_type": "code",
   "execution_count": 17,
   "id": "58a701c3",
   "metadata": {},
   "outputs": [
    {
     "name": "stdout",
     "output_type": "stream",
     "text": [
      "[2.65541797e-01 7.59335401e-01 7.02742605e-01 9.70990157e-01\n",
      " 9.41544575e-02 5.51837312e-01 5.32545907e-01 6.50754601e-01\n",
      " 5.51102622e-01 9.82514690e-01 8.59097216e-01 1.51956036e-04\n",
      " 2.50226161e-01 2.35558874e-01 6.16611160e-01 2.62708927e-01\n",
      " 7.51054285e-01 6.15247309e-01 8.80783263e-01 8.63056626e-01\n",
      " 5.44903735e-01 1.43080476e-01 7.09975047e-01 2.68275460e-01\n",
      " 7.81590555e-02 6.63779621e-01 8.98058791e-01 6.82075936e-01\n",
      " 3.53619235e-01 9.81215620e-01]\n",
      "Mean Value : 0.5573052767571436\n"
     ]
    }
   ],
   "source": [
    "x=np.random.random((30))\n",
    "print(x)\n",
    "print(\"Mean Value :\",np.mean(x))"
   ]
  },
  {
   "cell_type": "markdown",
   "id": "e66cacbf",
   "metadata": {},
   "source": [
    "14) Create a 2d array with 1 on the border and 0 inside"
   ]
  },
  {
   "cell_type": "code",
   "execution_count": 20,
   "id": "a3a997fd",
   "metadata": {},
   "outputs": [
    {
     "name": "stdout",
     "output_type": "stream",
     "text": [
      "[[1. 1. 1. 1. 1. 1. 1. 1.]\n",
      " [1. 0. 0. 0. 0. 0. 0. 1.]\n",
      " [1. 0. 0. 0. 0. 0. 0. 1.]\n",
      " [1. 0. 0. 0. 0. 0. 0. 1.]\n",
      " [1. 0. 0. 0. 0. 0. 0. 1.]\n",
      " [1. 0. 0. 0. 0. 0. 0. 1.]\n",
      " [1. 0. 0. 0. 0. 0. 0. 1.]\n",
      " [1. 1. 1. 1. 1. 1. 1. 1.]]\n"
     ]
    }
   ],
   "source": [
    "bor = np.ones((8,8))\n",
    "bor[1:-1,1:-1]=0\n",
    "print(bor)"
   ]
  },
  {
   "cell_type": "markdown",
   "id": "81157fed",
   "metadata": {},
   "source": [
    "15) How to add a border (filled with 0's) around an exiting array?"
   ]
  },
  {
   "cell_type": "code",
   "execution_count": null,
   "id": "ee392f77",
   "metadata": {},
   "outputs": [],
   "source": []
  },
  {
   "cell_type": "code",
   "execution_count": 22,
   "id": "e25d04a3",
   "metadata": {},
   "outputs": [
    {
     "name": "stdout",
     "output_type": "stream",
     "text": [
      "[[1. 1. 1.]\n",
      " [1. 1. 1.]\n",
      " [1. 1. 1.]]\n",
      "After Addign 0's Border: \n",
      "[[0. 0. 0. 0. 0.]\n",
      " [0. 1. 1. 1. 0.]\n",
      " [0. 1. 1. 1. 0.]\n",
      " [0. 1. 1. 1. 0.]\n",
      " [0. 0. 0. 0. 0.]]\n"
     ]
    }
   ],
   "source": [
    "x = np.ones((3,3))\n",
    "print(x)\n",
    "x=np.pad(x,pad_width=1, mode='constant', constant_values=0)\n",
    "print(\"After Addign 0's Border: \")\n",
    "print(x)"
   ]
  },
  {
   "cell_type": "markdown",
   "id": "d50de099",
   "metadata": {},
   "source": [
    "16) How to Accessing/Changing specific elements rows, colomns,etc in numpy array?\n",
    "Example -\n",
    "[[ 1 2 3 4 5 6 7] [ 8 9 10 11 12 13 14]]"
   ]
  },
  {
   "cell_type": "code",
   "execution_count": 24,
   "id": "16b1ae25",
   "metadata": {},
   "outputs": [
    {
     "name": "stdout",
     "output_type": "stream",
     "text": [
      "[[ 1  2  3  4  5  6  7]\n",
      " [ 8  9 10 11 12 13 14]]\n"
     ]
    }
   ],
   "source": [
    "arr = np.array([[1,2,3,4,5,6,7],[8,9,10,11,12,13,14]])\n",
    "print(arr)"
   ]
  },
  {
   "cell_type": "code",
   "execution_count": 25,
   "id": "731e6347",
   "metadata": {},
   "outputs": [
    {
     "data": {
      "text/plain": [
       "13"
      ]
     },
     "execution_count": 25,
     "metadata": {},
     "output_type": "execute_result"
    }
   ],
   "source": [
    "arr[1,5]"
   ]
  },
  {
   "cell_type": "code",
   "execution_count": 26,
   "id": "92f45e50",
   "metadata": {},
   "outputs": [
    {
     "data": {
      "text/plain": [
       "array([1, 2, 3, 4, 5, 6, 7])"
      ]
     },
     "execution_count": 26,
     "metadata": {},
     "output_type": "execute_result"
    }
   ],
   "source": [
    "arr[0,:]"
   ]
  },
  {
   "cell_type": "code",
   "execution_count": 27,
   "id": "c526012c",
   "metadata": {},
   "outputs": [
    {
     "data": {
      "text/plain": [
       "array([ 3, 10])"
      ]
     },
     "execution_count": 27,
     "metadata": {},
     "output_type": "execute_result"
    }
   ],
   "source": [
    "arr[:,2]"
   ]
  },
  {
   "cell_type": "code",
   "execution_count": 28,
   "id": "874b4d10",
   "metadata": {},
   "outputs": [
    {
     "data": {
      "text/plain": [
       "array([2, 4, 6])"
      ]
     },
     "execution_count": 28,
     "metadata": {},
     "output_type": "execute_result"
    }
   ],
   "source": [
    "arr[0,:][1:6:2]"
   ]
  },
  {
   "cell_type": "code",
   "execution_count": 29,
   "id": "b30682c5",
   "metadata": {},
   "outputs": [
    {
     "name": "stdout",
     "output_type": "stream",
     "text": [
      "[[ 1  2  3  4  5  6  7]\n",
      " [ 8  9 10 11 12 20 14]]\n"
     ]
    }
   ],
   "source": [
    "arr[1,5]= 20\n",
    "print(arr)\n"
   ]
  },
  {
   "cell_type": "markdown",
   "id": "1ef77ac7",
   "metadata": {},
   "source": [
    "17) How to Convert a 1D array to a 2D array with 2 rows"
   ]
  },
  {
   "cell_type": "code",
   "execution_count": 30,
   "id": "fdfc4524",
   "metadata": {},
   "outputs": [
    {
     "name": "stdout",
     "output_type": "stream",
     "text": [
      "1D array:  [1 2 3 4 5 6]\n",
      "2D array: \n",
      "[[1 2 3]\n",
      " [4 5 6]]\n"
     ]
    }
   ],
   "source": [
    "x = np.array([1,2,3,4,5,6])\n",
    "print(\"1D array: \",x)\n",
    "newx= x.reshape(2,3)\n",
    "print(\"2D array: \")\n",
    "print(newx)"
   ]
  },
  {
   "cell_type": "markdown",
   "id": "5edfe7f6",
   "metadata": {},
   "source": [
    "18) Create the following pattern without hardcoding. Use onlynumpy functions and the below input array a.\n",
    "\n",
    "Input:a = np.array([1,2,3])`\n",
    "    \n",
    "Desired Output:\n",
    "    array([1, 1, 1, 2, 2, 2, 3, 3, 3, 1, 2, 3, 1, 2, 3, 1, 2, 3])"
   ]
  },
  {
   "cell_type": "code",
   "execution_count": 32,
   "id": "3fa0c052",
   "metadata": {},
   "outputs": [
    {
     "data": {
      "text/plain": [
       "array([1, 1, 1, 2, 2, 2, 3, 3, 3, 1, 2, 3, 1, 2, 3, 1, 2, 3])"
      ]
     },
     "execution_count": 32,
     "metadata": {},
     "output_type": "execute_result"
    }
   ],
   "source": [
    "a=np.array([1,2,3])\n",
    "ar =np.r_[np.repeat(a,3), np.tile(a,3)]\n",
    "ar"
   ]
  },
  {
   "cell_type": "markdown",
   "id": "f9442d1c",
   "metadata": {},
   "source": [
    "19) Write a program to show how Numpy taking less memorycompared to Python List?"
   ]
  },
  {
   "cell_type": "code",
   "execution_count": 33,
   "id": "623607a8",
   "metadata": {},
   "outputs": [
    {
     "name": "stdout",
     "output_type": "stream",
     "text": [
      "Size of Each element of list in bytes:  48\n",
      "Size of Whole list in Bytes:  48000\n",
      "Python List size\n",
      "Size of Each element of Numpy array in bytes:  4\n",
      "Size of Whole Numpy array in Bytes:  4000\n"
     ]
    }
   ],
   "source": [
    "#importing system module\n",
    "import sys\n",
    "S = range(1000)\n",
    "print(\"Size of Each element of list in bytes: \",sys.getsizeof(S))\n",
    "print(\"Size of Whole list in Bytes: \", sys.getsizeof(S)*len(S))\n",
    "print(\"Python List size\")\n",
    "# Declaring numpy\n",
    "D=np.arange(1000)\n",
    "print(\"Size of Each element of Numpy array in bytes: \",D.itemsize)\n",
    "print(\"Size of Whole Numpy array in Bytes: \",D.size*D.itemsize)"
   ]
  },
  {
   "cell_type": "markdown",
   "id": "b6c18cfd",
   "metadata": {},
   "source": [
    "20) Write a program to show how Numpy taking less timecompared to Python List?"
   ]
  },
  {
   "cell_type": "code",
   "execution_count": 36,
   "id": "5a2c3481",
   "metadata": {},
   "outputs": [
    {
     "name": "stdout",
     "output_type": "stream",
     "text": [
      "Time taken by Python List for Multiplication:  0.09960508346557617 seconds\n",
      "Time taken by Numpy Array for Multiplication:  0.00800013542175293 seconds\n"
     ]
    }
   ],
   "source": [
    "import time\n",
    "size = 100000\n",
    "list1 = range(size)\n",
    "#Declare List\n",
    "list2 = range(size)\n",
    "#Declare Array\n",
    "arr1 = np.arange(size)\n",
    "arr2 = np.arange(size)\n",
    "# capture time before python list multiplication\n",
    "initialTime = time.time()\n",
    "resultList = [(a,b) for a,b in zip(list1,list2)]\n",
    "#Calculate Execution Time\n",
    "print(\"Time taken by Python List for Multiplication: \",(time.time() - initialTime), \"seconds\")\n",
    "# capture time before numpy array multiplication\n",
    "initialTime = time.time()\n",
    "resultArray = arr1*arr2\n",
    "#Calculate Execution Time\n",
    "print(\"Time taken by Numpy Array for Multiplication: \",(time.time() - initialTime), \"seconds\")"
   ]
  },
  {
   "cell_type": "code",
   "execution_count": null,
   "id": "c9ad9ca2",
   "metadata": {},
   "outputs": [],
   "source": []
  },
  {
   "cell_type": "code",
   "execution_count": null,
   "id": "c891785a",
   "metadata": {},
   "outputs": [],
   "source": []
  }
 ],
 "metadata": {
  "kernelspec": {
   "display_name": "Python 3",
   "language": "python",
   "name": "python3"
  },
  "language_info": {
   "codemirror_mode": {
    "name": "ipython",
    "version": 3
   },
   "file_extension": ".py",
   "mimetype": "text/x-python",
   "name": "python",
   "nbconvert_exporter": "python",
   "pygments_lexer": "ipython3",
   "version": "3.6.6"
  }
 },
 "nbformat": 4,
 "nbformat_minor": 5
}
