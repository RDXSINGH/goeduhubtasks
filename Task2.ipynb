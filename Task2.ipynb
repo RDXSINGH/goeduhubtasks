{
 "cells": [
  {
   "cell_type": "markdown",
   "id": "b3216baf",
   "metadata": {},
   "source": [
    "# Assignment/Task 2\n"
   ]
  },
  {
   "cell_type": "code",
   "execution_count": null,
   "id": "7da8d39b",
   "metadata": {},
   "outputs": [],
   "source": [
    "#1)Is a list mutable?\n",
    "# list are mutable elements can be modified, individual values can be replaced"
   ]
  },
  {
   "cell_type": "markdown",
   "id": "a15843db",
   "metadata": {},
   "source": [
    "2) List is Mutable.\n",
    "ans)Lists are best for Homogeneous data, and List commonly used or homogeneous data."
   ]
  },
  {
   "cell_type": "markdown",
   "id": "e984f4ba",
   "metadata": {},
   "source": [
    "3)What is the difference between a list and a tuple.\n",
    "ans) list is mutable but tuble are not.This means that lists can be changed, and tuples cannot be changed. \n"
   ]
  },
  {
   "cell_type": "markdown",
   "id": "215d1274",
   "metadata": {},
   "source": [
    "4)How to find the number of elements in the list?\n",
    "ans:using len() we can find number of element in list.\n",
    "ex:list_a = [\"Hello\", 2, 15, \"World\", 34]\n",
    "\n",
    "number_of_elements = len(list_a)\n",
    "\n",
    "print(\"Number of elements in the list: \", number_of_elements)"
   ]
  },
  {
   "cell_type": "markdown",
   "id": "b479bb9e",
   "metadata": {},
   "source": [
    "5).How to check whether the list is empty or not?\n",
    "ans: we can use  if not seq: and len() function. if not sequence is pythonic but len( function is unpythonic)"
   ]
  },
  {
   "cell_type": "markdown",
   "id": "fa8acabe",
   "metadata": {},
   "source": [
    "6)How to find the first and last element of the list?\n",
    "ans:using index we can find first and last element\n"
   ]
  },
  {
   "cell_type": "markdown",
   "id": "67e7269c",
   "metadata": {},
   "source": [
    "7)How to find the largest and lowest value in the list?lst = []\n",
    "ans:\n",
    "lst=[]\n",
    "num = int(input('How many numbers: '))\n",
    "for n in range(num):\n",
    "    \n",
    "    numbers = int(input('Enter number '))  \n",
    "    lst.append(numbers)  \n",
    "print(\"Maximum element in the list is :\", max(lst), \"\\nMinimum element in the list is :\", min(lst))"
   ]
  },
  {
   "cell_type": "markdown",
   "id": "5b929000",
   "metadata": {},
   "source": [
    "8)How to access elements of the list?\n",
    "\n",
    "ans: Using Index value we can access the elements in list."
   ]
  },
  {
   "cell_type": "markdown",
   "id": "d5c64634",
   "metadata": {},
   "source": [
    "9)Remove elements in a list before a specific index\n",
    "ans:You can use the pop() method to remove specific elements of a list.\n",
    "\n",
    "EXAMPLE:\n",
    "\n",
    "a=[1,2,3,4,5,5]\n",
    "a.pop(2)\n",
    "\n"
   ]
  },
  {
   "cell_type": "markdown",
   "id": "527e5ebe",
   "metadata": {},
   "source": [
    "10)Remove elements in a list between 2 indices\n",
    " creating a list\n",
    "list1 = [11, 5, 17, 18, 23, 50] \n",
    "removes elements from index 1 to 4\n",
    "del list1[::2]\n",
    "  \n",
    "print(*list1)"
   ]
  },
  {
   "cell_type": "markdown",
   "id": "cefa0db9",
   "metadata": {},
   "source": [
    "11)Return every 2nd element in a list between 2 indices\n",
    "a = [1,2,3,4,5,6,7,8,9]\n",
    "a[::2]"
   ]
  },
  {
   "cell_type": "markdown",
   "id": "8118a0d4",
   "metadata": {},
   "source": [
    "12)Get the first element from each nested list in a list\n",
    "ans:\n",
    "lst=[[1,2],[2,3],[4,5]]\n",
    "\n",
    "for i in lst:\n",
    "    \n",
    "    print((i[0])) \n",
    "\n"
   ]
  },
  {
   "cell_type": "markdown",
   "id": "6b98b196",
   "metadata": {},
   "source": [
    "13)How to modify elements of the list?\n",
    "ans= a=[1,2,34,56]\n",
    "\n",
    "a[1]='kishan'\n"
   ]
  },
  {
   "cell_type": "markdown",
   "id": "20dc3074",
   "metadata": {},
   "source": [
    "14)How to concatenate two lists?\n",
    "\n",
    "a = [1,2,3,4,5]\n",
    "\n",
    "b = [6,7,8,9]\n",
    "\n",
    "print(a+b)"
   ]
  },
  {
   "cell_type": "markdown",
   "id": "cd1dce05",
   "metadata": {},
   "source": [
    "15)How to add two lists element-wise in python?\n",
    "ans:\n",
    "list1 = [1, 2, 3]\n",
    "list2 = [4, 5, 6]\n",
    "sum_list = []\n",
    "for (item1, item2) in zip(list1, list2):\n",
    "    sum_list.append(item1+item2)\n",
    "\n",
    "print(sum_list)"
   ]
  },
  {
   "cell_type": "markdown",
   "id": "899eed91",
   "metadata": {},
   "source": [
    "16).Difference between del and clear?\n",
    " To remove items by index or slice we can use the del method in python .you can also remove elements from a list with del statements.   del list[index] or del list\n",
    "clear() method in python is used to empty the entire list. this can be used if someone wants an empty list for any other purpose.    list.clear()"
   ]
  },
  {
   "cell_type": "markdown",
   "id": "a22c4dc4",
   "metadata": {},
   "source": [
    "17)Difference between remove and pop?\n",
    "ans:\n",
    "The pop() function takes either no parameter or the index value as its parameter. When no parameter is given, this function pops() the last element and returns it. When you explicitly supply the index value, the pop() function pops the required elements and returns it.\n",
    "Example:\n",
    "a=arr.array('d', [1.1, 2.2, 3.8, 3.1, 3.7, 1.2, 4.6])\n",
    "print(a.pop())\n",
    "print(a.pop(3))\n",
    "Output –\n",
    "4.6\n",
    "3.1\n",
    "The first pop() function removes the last value 4.6 and returns the same while the second one pops the value at the 4th position which is 3.1 and returns the same.\n",
    "The remove() function, on the other hand, is used to remove the value where we do not need the removed value to be returned. This function takes the element value itself as the parameter. If you give the index value in the parameter slot, it will throw an error.\n",
    "Example:\n",
    "a=arr.array('d',[1.1 , 2.1 ,3.1])\n",
    "a.remove(1.1)\n",
    "print(a)\n",
    "Output –\n",
    "array(‘d’, [2.1,3.1])    "
   ]
  },
  {
   "cell_type": "markdown",
   "id": "d88eff9c",
   "metadata": {},
   "source": [
    "18)Difference between append and extend?\n",
    "\n",
    "Python append() method adds an element to a list, and the extend() method concatenates the first list with another list . "
   ]
  },
  {
   "cell_type": "markdown",
   "id": "e75b1d97",
   "metadata": {},
   "source": [
    "19)Difference between indexing and Slicing?\n",
    "\n",
    "“Indexing” means referring to an element of an iterable by its position within the iterable. “Slicing” means getting a subset of elements from an iterable based on their indices."
   ]
  },
  {
   "cell_type": "markdown",
   "id": "e5e935ee",
   "metadata": {},
   "source": [
    "20)Difference between sort and sorted?\n",
    "\n",
    "Sorting means rearranging a given sequence of elements according to a comparison operator on the elements. sorted() method sorts the given sequence either in ascending order or in descending order and return the a sorted list. "
   ]
  },
  {
   "cell_type": "markdown",
   "id": "45a59c9c",
   "metadata": {},
   "source": [
    "21)Difference between reverse and reversed?\n",
    "\n",
    "reverse() actually reverses the elements in the container. reversed() doesn't actually reverse anything, it merely returns an object that can be used to iterate over the container's elements in reverse order. "
   ]
  },
  {
   "cell_type": "markdown",
   "id": "20c3c26f",
   "metadata": {},
   "source": [
    "22)Difference between copy and deep copy?\n",
    "\n",
    " A shallow copy constructs a new compound object and then inserts references into it to the objects found in the original. A deep copy constructs a new compound object and then, recursively, inserts copies into it of the objects found in the original."
   ]
  },
  {
   "cell_type": "markdown",
   "id": "ab5dfc71",
   "metadata": {},
   "source": [
    "23)How to remove duplicate elements in the list?\n",
    "ans:\n",
    "test_list = [1, 3, 5, 6, 3, 5, 6, 1]\n",
    "print (\"The original list is : \" +  str(test_list))\n",
    "res = []\n",
    "for i in test_list:\n",
    "    if i not in res:\n",
    "        res.append(i)\n",
    "print (\"The list after removing duplicates : \" + str(res))"
   ]
  },
  {
   "cell_type": "markdown",
   "id": "829d292b",
   "metadata": {},
   "source": [
    "24)How to find an index of an element in the python list?\n",
    "\n",
    "Use list. index() to find only the index of the first occurrence of an item in a list. index(value) to find the index of the first occurrence of value in list ."
   ]
  },
  {
   "cell_type": "markdown",
   "id": "f50c9e92",
   "metadata": {},
   "source": [
    "25)How to find the occurrences of an element in the python list?\n",
    "ans:by using count() function\n",
    "lst = [8, 6, 8, 10, 8, 20, 10, 8, 8]\n",
    "x = 8\n",
    "def countX(lst, x):\n",
    "    return lst.count(x)\n",
    " \n",
    "#Driver Code\n",
    "lst = [8, 6, 8, 10, 8, 20, 10, 8, 8]\n",
    "x = 8\n",
    "    "
   ]
  },
  {
   "cell_type": "markdown",
   "id": "7bc0b85b",
   "metadata": {},
   "source": [
    "26)How to insert an item at a given position?\n",
    "ans: by using index() function"
   ]
  },
  {
   "cell_type": "markdown",
   "id": "eadb916e",
   "metadata": {},
   "source": [
    "27)How to check if an item is in the list?\n",
    "\n",
    "ans: by using in operator we can find item in list in python"
   ]
  },
  {
   "cell_type": "markdown",
   "id": "571bef49",
   "metadata": {},
   "source": [
    "28)How to flatten a list in python?\n",
    "ans:Converting a list of lists (2D), into a list (1D) is called flattening. \n",
    "List_2D = [[1,2,3],[4,5,6],[7,8,9]] #List to be flattened\n",
    "List_flat = []\n",
    "\n",
    "for i in range(len(List_2D)): #Traversing through the main list\n",
    "  for j in range (len(List_2D[i])): #Traversing through each sublist\n",
    "    List_flat.append(List_2D[i][j]) #Appending elements into our flat_list\n",
    "    \n",
    "print(\"Original List:\",List_2D)\n",
    "print(\"Flattened List:\",List_flat)"
   ]
  },
  {
   "cell_type": "markdown",
   "id": "e96f7ed2",
   "metadata": {},
   "source": [
    "29)How to convert python list to other data structures like set, tuple, dictionary?\n",
    "ans:\n",
    "there are quite a few data structures available. The builtins data structures are: lists, tuples, dictionaries, strings, sets and frozensets.\n",
    "Lists, strings and tuples are ordered sequences of objects. Unlike strings that contain only characters, list and tuples can contain any type of objects. Lists and tuples are like arrays. Tuples like strings are immutables. Lists are mutables so they can be extended or reduced at will. Sets are mutable unordered sequence of unique elements whereas frozensets are immutable sets.\n",
    "Lists are enclosed in brackets:\n",
    "l = [1, 2, \"a\"]\n",
    "Tuples are enclosed in parentheses:\n",
    "t = (1, 2, \"a\")\n",
    "Tuples are faster and consume less memory. See Tuples for more information.\n",
    "Dictionaries are built with curly brackets:\n",
    "d = {\"a\":1, \"b\":2}\n",
    "Sets are made using the set() builtin function."
   ]
  },
  {
   "cell_type": "markdown",
   "id": "2deb2f41",
   "metadata": {},
   "source": [
    "30)How to apply a function to all items in the list?\n",
    "\n",
    "ans:USE map() TO APPLY A FUNCTION TO A LIST\n",
    "a_list = [\"a\", \"b\", \"c\"]\n",
    "\n",
    "map_object = map(str.upper, a_list)\n",
    "capitalize each letter\n",
    "\n",
    "new_list = list(map_object)\n",
    "\n",
    "print(new_list)\n",
    "OUTPUT\n",
    "['A', 'B', 'C']"
   ]
  },
  {
   "cell_type": "markdown",
   "id": "a3863d15",
   "metadata": {},
   "source": [
    "31)How to filter the elements based on a function in a python list?\n",
    "ans:Python has a built-in function called filter() that allows you to filter a list (or a tuple) in a more beautiful way. The filter() function iterates over the elements of the list and applies the fn() function to each element. It returns an iterator for the elements where the fn() returns True "
   ]
  },
  {
   "cell_type": "markdown",
   "id": "b19af9b4",
   "metadata": {},
   "source": [
    "32)How python lists are stored in memory?\n",
    "ans:The list is the fundamental linked data structure, whereas the array is the fundamental sequentially-allocated data structure. Lists, then, are stored in distinct chunks of memory which are linked together with pointers, which enables efficient use of memory generally and doesn't require resizing."
   ]
  }
 ],
 "metadata": {
  "kernelspec": {
   "display_name": "Python 3",
   "language": "python",
   "name": "python3"
  },
  "language_info": {
   "codemirror_mode": {
    "name": "ipython",
    "version": 3
   },
   "file_extension": ".py",
   "mimetype": "text/x-python",
   "name": "python",
   "nbconvert_exporter": "python",
   "pygments_lexer": "ipython3",
   "version": "3.6.6"
  }
 },
 "nbformat": 4,
 "nbformat_minor": 5
}
