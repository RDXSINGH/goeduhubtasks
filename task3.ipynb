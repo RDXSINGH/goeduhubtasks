{
 "cells": [
  {
   "cell_type": "markdown",
   "id": "9fd87799",
   "metadata": {},
   "source": [
    "# Assignment/Task 3\n",
    "#GO_STP_6970\n"
   ]
  },
  {
   "cell_type": "markdown",
   "id": "af2fb690",
   "metadata": {},
   "source": [
    "Q.1 Write a Python Program to sort (ascending and descending) a dictionary by value. "
   ]
  },
  {
   "cell_type": "code",
   "execution_count": 10,
   "id": "f2553fdd",
   "metadata": {},
   "outputs": [
    {
     "name": "stdout",
     "output_type": "stream",
     "text": [
      "ascending order :  [(0, 0), (2, 1), (1, 2), (4, 3), (3, 4)]\n",
      "descending order :  [(3, 4), (4, 3), (1, 2), (2, 1), (0, 0)]\n"
     ]
    }
   ],
   "source": [
    "import operator\n",
    "\n",
    "d = {1: 2, 3: 4, 4: 3, 2: 1, 0: 0}\n",
    "\n",
    "s= sorted(d.items(), key=operator.itemgetter(1))\n",
    "\n",
    "print('ascending order : ',s)\n",
    "\n",
    "s1= (sorted(d.items(), key=operator.itemgetter(1),reverse=True))\n",
    "\n",
    "print('descending order : ',s1)"
   ]
  },
  {
   "cell_type": "markdown",
   "id": "bdf6a7c5",
   "metadata": {},
   "source": [
    "Q.2 Write a Python Program to add a key to a dictionary. \n",
    "\n",
    "Sample Dictionary : {0: 10, 1: 20}\n",
    "Expected Result : {0: 10, 1: 20, 2: 30}"
   ]
  },
  {
   "cell_type": "code",
   "execution_count": 12,
   "id": "9df0aaf3",
   "metadata": {},
   "outputs": [
    {
     "name": "stdout",
     "output_type": "stream",
     "text": [
      "{0: 10, 1: 20}\n",
      "{0: 10, 1: 20, 2: 30}\n"
     ]
    }
   ],
   "source": [
    "dict={0:10,1:20}\n",
    "print(dict)\n",
    "\n",
    "dict[2]=30\n",
    "print(dict)"
   ]
  },
  {
   "cell_type": "markdown",
   "id": "c0c878e6",
   "metadata": {},
   "source": [
    "Q.3 Write a  program asks for City name and Temperature and builds a dictionary using that Later on you can input City name and it will tell you the Temperature of that City.\n",
    "\n"
   ]
  },
  {
   "cell_type": "code",
   "execution_count": 22,
   "id": "f89fa50c",
   "metadata": {},
   "outputs": [
    {
     "name": "stdout",
     "output_type": "stream",
     "text": [
      "enter the city namemumbai\n",
      "enter the Temperature78\n",
      "enter the city namedelhi\n",
      "enter the Temperature89\n",
      "search name of citymumbai\n",
      "78.0\n"
     ]
    }
   ],
   "source": [
    "\n",
    "num=2\n",
    "dict={}\n",
    "for i in range(num):\n",
    "    m=input(\"enter the city name\")\n",
    "    n=float(input(\"enter the Temperature\"))\n",
    "    dict[m]=n\n",
    "x=input(\"search name of city\")\n",
    "if x in dict:\n",
    "    print(dict[x])"
   ]
  },
  {
   "cell_type": "markdown",
   "id": "65d148c6",
   "metadata": {},
   "source": [
    "Q. 4 Write a Python program to convert list to list of dictionaries.\n",
    "Sample lists: [\"Black\", \"Red\", \"Maroon\", \"Yellow\"], [\"#000000\", \"#FF0000\", \"#800000\", \"#FFFF00\"]\n",
    "Expected Output: [{'color_name': 'Black', 'color_code': '#000000'}, {'color_name': 'Red', 'color_code':\n",
    "'#FF0000'}, {'color_name': 'Maroon', 'color_code': '#800000'}, {'color_name': 'Yellow', 'color_code':\n",
    "'#FFFF00'}]\n"
   ]
  },
  {
   "cell_type": "code",
   "execution_count": 1,
   "id": "c388c32c",
   "metadata": {},
   "outputs": [
    {
     "name": "stdout",
     "output_type": "stream",
     "text": [
      "[{'color_name': ['Black', 'Red', 'Maroon', 'Yellow'], 'color_code': '#000000'}, {'color_name': ['Black', 'Red', 'Maroon', 'Yellow'], 'color_code': '#000000'}, {'color_name': ['Black', 'Red', 'Maroon', 'Yellow'], 'color_code': '#000000'}, {'color_name': ['Black', 'Red', 'Maroon', 'Yellow'], 'color_code': '#000000'}]\n"
     ]
    }
   ],
   "source": [
    "colors=[\"Black\",\"Red\",\"Maroon\",\"Yellow\"]\n",
    "color_code=[\"#000000\",\"#FF0000\",\"#800000\",\"#FFFF00\"]\n",
    "list_dict=[]\n",
    "for color in colors:\n",
    "    for code in color_code:\n",
    "        d3={\"color_name\":colors,\"color_code\":code}\n",
    "        break\n",
    "    list_dict.append(d3)\n",
    "print(list_dict)    "
   ]
  },
  {
   "cell_type": "markdown",
   "id": "1a317e3b",
   "metadata": {},
   "source": [
    "Q. 5 We have following information on Employees and their Salary (Salary is in lakhs)\n",
    "Employee Salary\n",
    "John 14\n",
    "Smith 13\n",
    "Alice 32\n",
    "Daneil 21\n",
    "Using above create a dictionary of Employees and their Salary\n",
    "1. Write a program that asks user for three type of inputs\n",
    "a) print: if user enter print then it should print all Employees with their Salary in this format, John ==>14Smith ==>13 Alice ==>32 Daneil ==>21\n",
    "b) add: if user input adds then it should further ask for an Employee name to add. If Employee alreadyexists in our dataset then it should print that it exists and do nothing. If it doesn't then it asks for Salaryand add that new Employee/Salary in our dictionary and print it\n",
    "c) remove: when user inputs remove it should ask for an Employee to remove. If an Employee exists inour dictionary then remove it and print a new dictionary using format shown above in (a). Else print that Employee doesn't exist!\n",
    "d) query: on this again ask the user for which Employee he or she wants to query. When a user inputsthat Employee it will print the Salary of that Employee."
   ]
  },
  {
   "cell_type": "code",
   "execution_count": null,
   "id": "44536648",
   "metadata": {},
   "outputs": [],
   "source": [
    "data={'jhon':14,'smith':13,'Alice':32,'Daniel':21}\n",
    "\n",
    "def printdata():\n",
    "    print(\"Employees with their Salary\")\n",
    "    for item in data.items():\n",
    "        print(item[0],\"==>\",item[1])\n",
    "def adddata():\n",
    "    name=input(\"enter the names\")\n",
    "    if name in data.keys():\n",
    "        print(\"name already exits\")\n",
    "    else:\n",
    "        salary=input(\"salary of the employee:\")\n",
    "        data.update({name:salary})\n",
    "    \n",
    "def removedata():\n",
    "    name=input(\"enter the employee name:\")\n",
    "    if name in data.keys():\n",
    "        data.pop(name)\n",
    "        print(\"employee has been removed\")\n",
    "    else:\n",
    "        print(\"employee does not exist\")\n",
    "def querydata():\n",
    "    name=input(\"enter the emplyoee name\")\n",
    "    if name in data.keys():\n",
    "        print(f'salary of {name} is {data[name]}')\n",
    "    else:\n",
    "        print(\"employee doesn't exits\")      \n",
    "\n",
    "        \n",
    "condn=True\n",
    "while(condn):\n",
    "    n=input(\"slect one?,print/add/remove/query/leave\")\n",
    "    if n==\"print\":\n",
    "        printdata()\n",
    "    elif n=='add':\n",
    "        adddata()\n",
    "    elif n=='remove':\n",
    "        removedata()\n",
    "    elif n=='query':\n",
    "              querydata()\n",
    "    elif n=='leave':\n",
    "              condn=False\n",
    "    else:\n",
    "        print(\"invalid input\")"
   ]
  },
  {
   "cell_type": "markdown",
   "id": "2e3f55c8",
   "metadata": {},
   "source": [
    "# Question on Sets\n",
    "Q.1 What is the difference between a set and a frozenset? Create any set and try to usefrozenset(setname).\n",
    "\n",
    "\n",
    "While elements of a set can be modified at any time, elements of the frozen set remain the same after creation,i.e., Frozen set is just an immutable version of a set object ."
   ]
  },
  {
   "cell_type": "code",
   "execution_count": 20,
   "id": "1d06225c",
   "metadata": {},
   "outputs": [
    {
     "name": "stdout",
     "output_type": "stream",
     "text": [
      "<class 'frozenset'>\n"
     ]
    }
   ],
   "source": [
    "myset={1,2,3,4,5,6,7,8}\n",
    "forzen_set=frozenset(myset)\n",
    "print(type(forzen_set))"
   ]
  },
  {
   "cell_type": "code",
   "execution_count": 21,
   "id": "7c4ab0db",
   "metadata": {},
   "outputs": [
    {
     "data": {
      "text/plain": [
       "{1, 3, 4, 5, 6, 7, 8}"
      ]
     },
     "execution_count": 21,
     "metadata": {},
     "output_type": "execute_result"
    }
   ],
   "source": [
    "myset.remove(2)\n",
    "myset"
   ]
  },
  {
   "cell_type": "code",
   "execution_count": 23,
   "id": "01f981c5",
   "metadata": {},
   "outputs": [
    {
     "ename": "AttributeError",
     "evalue": "'frozenset' object has no attribute 'remove'",
     "output_type": "error",
     "traceback": [
      "\u001b[1;31m---------------------------------------------------------------------------\u001b[0m",
      "\u001b[1;31mAttributeError\u001b[0m                            Traceback (most recent call last)",
      "\u001b[1;32m<ipython-input-23-e68379bda442>\u001b[0m in \u001b[0;36m<module>\u001b[1;34m\u001b[0m\n\u001b[1;32m----> 1\u001b[1;33m \u001b[0mforzen_set\u001b[0m\u001b[1;33m.\u001b[0m\u001b[0mremove\u001b[0m\u001b[1;33m(\u001b[0m\u001b[1;36m2\u001b[0m\u001b[1;33m)\u001b[0m\u001b[1;33m\u001b[0m\u001b[0m\n\u001b[0m",
      "\u001b[1;31mAttributeError\u001b[0m: 'frozenset' object has no attribute 'remove'"
     ]
    }
   ],
   "source": [
    "forzen_set.remove(2)"
   ]
  },
  {
   "cell_type": "markdown",
   "id": "cad2ed9e",
   "metadata": {},
   "source": [
    "Q.2 Find the elements in a given set that are not in another set\n",
    "set1 = {10,20,30,40,50}\n",
    "set2 = {40,50,60,70,80}"
   ]
  },
  {
   "cell_type": "code",
   "execution_count": 1,
   "id": "27867d96",
   "metadata": {},
   "outputs": [
    {
     "name": "stdout",
     "output_type": "stream",
     "text": [
      "difference between set1 and set2 is {10, 20, 30}\n",
      "Difference between set2 and set1 is{80, 60, 70}\n"
     ]
    }
   ],
   "source": [
    "set1 = {10,20,30,40,50}\n",
    "set2 = {40,50,60,70,80}\n",
    "print(f'difference between set1 and set2 is {set1.difference(set2)}')\n",
    "print(f\"Difference between set2 and set1 is{set2.difference(set1)}\")"
   ]
  },
  {
   "cell_type": "code",
   "execution_count": null,
   "id": "5af012ac",
   "metadata": {},
   "outputs": [],
   "source": []
  }
 ],
 "metadata": {
  "kernelspec": {
   "display_name": "Python 3",
   "language": "python",
   "name": "python3"
  },
  "language_info": {
   "codemirror_mode": {
    "name": "ipython",
    "version": 3
   },
   "file_extension": ".py",
   "mimetype": "text/x-python",
   "name": "python",
   "nbconvert_exporter": "python",
   "pygments_lexer": "ipython3",
   "version": "3.6.6"
  }
 },
 "nbformat": 4,
 "nbformat_minor": 5
}
